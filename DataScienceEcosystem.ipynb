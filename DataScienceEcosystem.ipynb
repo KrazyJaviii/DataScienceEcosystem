{
 "cells": [
  {
   "cell_type": "markdown",
   "id": "e58c2584-d6d0-4a29-b636-49a420a338d5",
   "metadata": {},
   "source": [
    "# Data Science Tools and Ecosystem"
   ]
  },
  {
   "cell_type": "markdown",
   "id": "e2543949-6b7a-453b-ac89-da733e6e2f4d",
   "metadata": {},
   "source": [
    "In this notebook, Data Science Tools and Ecosystem are summarized."
   ]
  },
  {
   "cell_type": "markdown",
   "id": "48491371-055b-4bd6-a040-d82456d1139d",
   "metadata": {},
   "source": [
    "Some of the popular languages that Data Scientists use are:\n",
    "1. R\n",
    "2. SQL\n",
    "3. C++"
   ]
  },
  {
   "cell_type": "markdown",
   "id": "e680a01c-8abe-4d60-81c1-e90fd981ae71",
   "metadata": {},
   "source": [
    "Some of the commonly used libraries used by Data Scientists include:\n",
    "\n",
    "1. pandas\n",
    "2. Pytorch\n",
    "3. SciPy\n",
    "4. NumPy"
   ]
  },
  {
   "cell_type": "markdown",
   "id": "28261a1f-fa7d-4edd-aaf9-2b96feb259e6",
   "metadata": {},
   "source": [
    "|Data Science Tools|\n",
    "|----|\n",
    "|R Studio|\n",
    "|Apache Hadoop|\n",
    "|Jupyter NotebooK|\n",
    "\n"
   ]
  },
  {
   "cell_type": "markdown",
   "id": "f61a3584-024c-40f0-aa7f-0bcee74ecb69",
   "metadata": {},
   "source": [
    "### Below are a few examples of evaluating arithmetic expressions in Python"
   ]
  },
  {
   "cell_type": "code",
   "execution_count": 3,
   "id": "22376717-fd95-4bb6-bcb8-29aac23b2a4b",
   "metadata": {},
   "outputs": [
    {
     "data": {
      "text/plain": [
       "17"
      ]
     },
     "execution_count": 3,
     "metadata": {},
     "output_type": "execute_result"
    }
   ],
   "source": [
    "#This a simple arithmetic expression to mutiply then add integers\n",
    "(3*4)+5"
   ]
  },
  {
   "cell_type": "code",
   "execution_count": 4,
   "id": "6dc889fa-a755-43cb-a212-b181ff8f8432",
   "metadata": {},
   "outputs": [
    {
     "data": {
      "text/plain": [
       "3.3333333333333335"
      ]
     },
     "execution_count": 4,
     "metadata": {},
     "output_type": "execute_result"
    }
   ],
   "source": [
    "#This will convert 200 minutes to hours by diving by 60\n",
    "200/60"
   ]
  },
  {
   "cell_type": "markdown",
   "id": "7a04de0b-dd2d-42c8-8711-6e25370ce774",
   "metadata": {},
   "source": [
    "__Objectives:__\n",
    "* Create a markdown cell with a table of Data Science tools\n",
    "* Create a code cell to multiply and add numbers\n",
    "* List popular languages for Data Science"
   ]
  },
  {
   "cell_type": "markdown",
   "id": "ff25336f-5653-4ca9-8914-a5798155fde4",
   "metadata": {},
   "source": [
    "## Author\n",
    "Javier lara"
   ]
  },
  {
   "cell_type": "code",
   "execution_count": null,
   "id": "78ba7258-b9d7-4aa1-a3fc-591a1a1b9148",
   "metadata": {},
   "outputs": [],
   "source": []
  }
 ],
 "metadata": {
  "kernelspec": {
   "display_name": "Python 3 (ipykernel)",
   "language": "python",
   "name": "python3"
  },
  "language_info": {
   "codemirror_mode": {
    "name": "ipython",
    "version": 3
   },
   "file_extension": ".py",
   "mimetype": "text/x-python",
   "name": "python",
   "nbconvert_exporter": "python",
   "pygments_lexer": "ipython3",
   "version": "3.11.9"
  }
 },
 "nbformat": 4,
 "nbformat_minor": 5
}
